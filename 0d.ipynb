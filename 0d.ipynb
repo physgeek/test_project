{
 "cells": [
  {
   "cell_type": "code",
   "execution_count": null,
   "metadata": {
    "collapsed": false
   },
   "outputs": [],
   "source": [
    "%run ../code/init_mooc_nb.ipy\n",
    "\n",
    "randn = np.random.randn\n",
    "from matplotlib import gridspec"
   ]
  },
  {
   "cell_type": "markdown",
   "metadata": {},
   "source": [
    "#Table of Contents\n",
    "* [Topology and symmetry](#Topology-and-symmetry)\n",
    "* [Zero-dimensional quantum systems](#Zero-dimensional-quantum-systems)\n",
    "* [The concept of a topological invariant](#The-concept-of-a-topological-invariant)\n",
    "* [Time-reversal symmetry](#Time-reversal-symmetry)\n",
    "* [Sublattice symmetry](#Sublattice-symmetry)\n",
    "* [Particle-hole symmetry](#Particle-hole-symmetry)\n",
    "* [Conclusion](#Conclusion)\n"
   ]
  },
  {
   "cell_type": "markdown",
   "metadata": {},
   "source": [
    "# Topology and symmetry"
   ]
  },
  {
   "cell_type": "code",
   "execution_count": null,
   "metadata": {
    "collapsed": false
   },
   "outputs": [],
   "source": [
    "MoocVideo(\"5ysdSoorJz4\", src_location='1.1-intro')"
   ]
  },
  {
   "cell_type": "markdown",
   "metadata": {},
   "source": [
    "# Zero-dimensional quantum systems"
   ]
  },
  {
   "cell_type": "markdown",
   "metadata": {},
   "source": [
    "Imagine a quantum system with a finite number of states $N$. The Hamiltonian of such a system is represented by a matrix $H$ of dimension $N\\times N$.\n",
    "This matrix is Hermitian, $H=H^\\dagger$. Its real eigenvalues $E_n$ correspond to the allowed energies of the system,\n",
    "\n",
    "$$H\\,\\left|n\\right\\rangle = E_n\\,\\left|n\\right\\rangle\\,,$$\n",
    "\n",
    "with $\\left|n\\right\\rangle$ the corresponding eigenstate. Let's say that $H$ describes a small quantum dot with a few levels. We can imagine that the quantum dot is in weak contact with a metallic lead, as in the following sketch:\n",
    "\n",
    "\n",
    "![](figures/dot.png)\n",
    "\n",
    "\n",
    "The presence of a metallic lead allows us to measure all the energies $E_n$ of the electronic states in the dot with respect to the Fermi level $E_F$ of the electrons in the metallic lead. In the following we will set $E_F=0$. Hence, all negative energies $E_n<0$ correspond to filled states in the dot, and all positive energies $E_n>0$ to empty states. In the sketch, the lead and the dot are separated by a potential barrier, such that they are only coupled very weakly. Thus, we can still consider the dot as an isolated system, to a good approximation.\n",
    "\n",
    "\n",
    "We are now ready to start on the main theme of this course, topology."
   ]
  },
  {
   "cell_type": "markdown",
   "metadata": {},
   "source": [
    "## Topology and gapped quantum systems\n",
    "\n",
    "Topology studies whether objects can be transformed continuously into each other. In condensed matter physics we can ask whether the Hamiltonians of two quantum systems can be continuously transformed into each other. If that is the case, then we can say that two systems are 'topologically equivalent'.\n",
    "\n",
    "If we considered all Hamiltonians without any constraint, every Hamiltonian could be continuously deformed into every other Hamiltonian, and all quantum systems would be topologically equivalent. This changes drastically if we restrict ourselves to systems with an energy gap. This means that there is a finite energy cost to excite the system above its ground state.\n",
    "If an energy gap is present, then the Hamiltonian of the system has no eigenvalues in a finite interval around zero energy.\n",
    "\n",
    "We can now use the following criterion: we say that two gapped quantum systems are topologically equivalent if their Hamiltonians can be continuously deformed into each other *without ever closing the energy gap*.\n",
    "\n",
    "In the following, we will see that often one is interested in some more specific criterion: for instance, that some symmetry may be preserved throughout the continuous path which connects two Hamiltonians.\n",
    "\n",
    "However, for the moment let's just see these ideas at play using our quantum dot as a simple test case. Imagine our dot is initially described by a random $H$, such as:"
   ]
  },
  {
   "cell_type": "code",
   "execution_count": null,
   "metadata": {
    "collapsed": false
   },
   "outputs": [],
   "source": [
    "def make_random_real_ham(N):\n",
    "    H = randn(N, N)\n",
    "    H += H.T\n",
    "    return H / 2\n",
    "\n",
    "np.random.seed(30)   \n",
    "H0 = make_random_real_ham(N=4)\n",
    "\n",
    "\n",
    "pprint_matrix(H0)"
   ]
  },
  {
   "cell_type": "markdown",
   "metadata": {},
   "source": [
    "For simplicity, we have taken $H$ to be real. Let's now deform this Hamiltonian into another Hamiltonian $H'$, also real. We can imagine that this deformation describes the changes that occur to the dot as an external parameter, such as a gate voltage, is varied. We can parameterize the deformation by\n",
    "\n",
    "$H(\\alpha) = \\alpha H' + (1-\\alpha) H,$\n",
    "\n",
    "so that at $\\alpha=0$ we are at the initial Hamiltonian and at $\\alpha=1$ we are at the final Hamiltonian. Let's see what the energy levels do as a function of $\\alpha$."
   ]
  },
  {
   "cell_type": "code",
   "execution_count": null,
   "metadata": {
    "collapsed": false
   },
   "outputs": [],
   "source": [
    "def plot_spectrum(alphas, spectrum, ylim=[-3.0, 4.0]):\n",
    "    fig, ax = plt.subplots()\n",
    "    ax.plot(alphas, spectrum, c='k', linewidth = 1.2)\n",
    "    ax.axhline(0., ls='--', linewidth=2., c='b')\n",
    "    ax.set_ylabel('$E$')\n",
    "    ax.set_xlabel(r'$\\alpha$')\n",
    "    ax.set_xticks([0, 0.5, 1.0])\n",
    "    ax.set_ylim(ylim)\n",
    "\n",
    "\n",
    "np.random.seed(69)   \n",
    "H0 = make_random_real_ham(N=10)\n",
    "H1 = make_random_real_ham(N=10) \n",
    "\n",
    "spectrum = []\n",
    "alphas = np.linspace(0, 1, 1000)\n",
    "for a in alphas:\n",
    "    H = (1 - a) * H0 + a*H1 \n",
    "    energies = np.linalg.eigvalsh(H)\n",
    "    spectrum.append(energies)\n",
    "\n",
    "plot_spectrum(alphas, spectrum)"
   ]
  },
  {
   "cell_type": "markdown",
   "metadata": {},
   "source": [
    "You may notice from the plot that as $\\alpha$ varies, it can happen that an energy level crosses zero energy. When this happens, we break the condition that there should be an energy gap in the system. Notice, however, that this does not necessarily mean that there is no continuous transformation between $H$ and $H'$ such that the gap does not close. It simply means that this particular path has gap closings. Perhaps it is possible to find another path which does not."
   ]
  },
  {
   "cell_type": "markdown",
   "metadata": {},
   "source": [
    "So are $H$ and $H'$ topologically equivalent or not? Let's look at this situation:"
   ]
  },
  {
   "cell_type": "code",
   "execution_count": null,
   "metadata": {
    "collapsed": false
   },
   "outputs": [],
   "source": [
    "np.random.seed(64)   \n",
    "H0 = make_random_real_ham(N=10)\n",
    "H1 = make_random_real_ham(N=10) \n",
    "\n",
    "spectrum = []\n",
    "alphas = np.linspace(0, 1, 1000)\n",
    "for a in alphas:\n",
    "    H = (1 - a) * H0 + a*H1 \n",
    "    energies = np.linalg.eigvalsh(H)\n",
    "    spectrum.append(energies)\n",
    "\n",
    "plot_spectrum(alphas, spectrum)"
   ]
  },
  {
   "cell_type": "markdown",
   "metadata": {},
   "source": [
    "We see that one level does cross zero (even twice), but it seems obvious that we can just push it down a little bit and we find a continuous path between two Hamiltonians. So we need to come up with an easier way of how to figure out if Hamiltonians can be transformed into each other or not."
   ]
  },
  {
   "cell_type": "markdown",
   "metadata": {},
   "source": [
    "# The concept of a topological invariant"
   ]
  },
  {
   "cell_type": "markdown",
   "metadata": {},
   "source": [
    "In order to know whether there is any path which connects $H$ and $H'$ without closing the gap, we can count the number of levels below zero energy, i.e. the number of filled energy levels. Indeed, for gapped Hamiltonians no energy level can move through zero, but otherwise they can move freely. Therefore continuous transformations exist exactly between Hamiltonians with the same number of energy levels below zero.\n",
    "\n",
    "Since this number can not change under continuous transformations inside the set of gapped Hamiltonians, we call it a *topological invariant* $Q$.\n",
    "\n",
    "Below, we plot the energy levels along our path from $H$ to $H'$ again, together with our topological invariant, the number of filled energy levels. You can see that this number changes between 3, 4 and 5. Hence we can say that $H$ and $H'$ are not topologically equivalent."
   ]
  },
  {
   "cell_type": "code",
   "execution_count": null,
   "metadata": {
    "collapsed": false
   },
   "outputs": [],
   "source": [
    "np.random.seed(69)   \n",
    "H0 = make_random_real_ham(N=10)\n",
    "H1 = make_random_real_ham(N=10) \n",
    "\n",
    "spectrum = []\n",
    "alphas = np.linspace(0, 1, 1000)\n",
    "for a in alphas:\n",
    "    H = (1 - a) * H0 + a*H1 \n",
    "    energies = np.linalg.eigvalsh(H)\n",
    "    spectrum.append(energies)\n",
    "\n",
    "Q = [len(s[s<0]) for s in spectrum]\n",
    "\n",
    "def plot_spec_top(alphas, spectrum, Q, ylim=[-3.0, 4.0]):\n",
    "    fig = plt.figure(figsize=(4.5, 4.0)) \n",
    "    gs = gridspec.GridSpec(2, 1, height_ratios=[3, 1])\n",
    "    ax0 = plt.subplot(gs[0])\n",
    "    ax0.plot(alphas, spectrum, c='k', linewidth = 1.2)\n",
    "    ax0.set_ylim()\n",
    "    ax0.axhline(0., ls='--', linewidth=2., c='b')\n",
    "    ax0.set_xticks([])\n",
    "    ax0.set_yticks([-4, 0, 4])\n",
    "    ax0.set_ylim([-3.0, 4.0])\n",
    "    ax1 = plt.subplot(gs[1])\n",
    "    ax1.plot(alphas, Q, color='k', linewidth=1.5)\n",
    "    ax1.fill_between(alphas, Q, 0, color='r', alpha=0.5)\n",
    "    ax1.grid(True)\n",
    "    ax1.set_ylim(1.9, 7.1)\n",
    "    ax1.set_yticks([2, 4, 6])\n",
    "    plt.tight_layout()\n",
    "    ax0.set_ylabel('$E$')\n",
    "    ax1.set_ylabel('$ Q $')\n",
    "    ax1.set_xlabel(r'$ \\alpha $')\n",
    "    ax1.set_xticks([0, 0.5, 1.0]);\n",
    "    \n",
    "plot_spec_top(alphas, spectrum, Q)"
   ]
  },
  {
   "cell_type": "markdown",
   "metadata": {},
   "source": [
    "The plot makes it clear that we do not actually have to count the number of filled energy levels for both $H$ and $H'$, so it is enough to keep track of *zero energy crossings*. Whenever an energy level crosses zero energy, the number of levels below zero energy changes. Such a crossing therefore changes the topological invariant. We call that a *topological phase transition*.\n",
    "\n",
    "If two Hamiltonians have a different topological invariant, they must be separated by such a transition. In other words, it is impossible to go from one to the other without closing the gap.\n",
    "\n",
    "On the other hand, if there are equally many levels crossing from below to above zero energy as the other way around, the number of levels below zero energy does not change. The topological invariant is therefore the same for the initial and final Hamiltonian. In this case, there must be a continuous transformation between the initial and final Hamiltonian which does not close the gap.\n",
    "\n",
    "Once we have identified a topological invariant, we can *classify* all quantum Hamiltonians according to its value. In this way we create classes of Hamiltonians which are all topologically equivalent, and we can keep track of all the different *topological phases* that these Hamiltonians can support."
   ]
  },
  {
   "cell_type": "markdown",
   "metadata": {},
   "source": [
    "## Role of conservation laws\n",
    "\n",
    "Let's now consider the case that the Hamiltonian of the quantum dot satisfies a symmetry constraint. This means that there is a unitary matrix, for example $U = \\sigma_z \\otimes 1\\!\\!1$, such that the Hamiltonian commutes with this matrix:\n",
    "\n",
    "$$U^\\dagger H U = H.$$\n",
    "\n",
    "This means that the system has a conservation law, and that the Hamiltonian can be brought to a block-diagonal form:"
   ]
  },
  {
   "cell_type": "code",
   "execution_count": null,
   "metadata": {
    "collapsed": false
   },
   "outputs": [],
   "source": [
    "def make_cons_ham(N):\n",
    "    sigma_0=np.array([[1,0],[0,1]])\n",
    "    sigma_z=np.array([[1,0],[0,-1]])\n",
    "    temp1=randn(N, N)#+1j*randn(N, N)\n",
    "    temp2=randn(N, N)#+1j*randn(N, N)\n",
    "    \n",
    "    H = np.kron(sigma_0,temp1)+np.kron(sigma_z,temp2)\n",
    "    H+=H.T.conj()\n",
    "    return H/2   \n",
    "\n",
    "modes=5\n",
    "np.random.seed(10) \n",
    "H0=make_cons_ham(2)\n",
    "\n",
    "pprint_matrix(H0)"
   ]
  },
  {
   "cell_type": "markdown",
   "metadata": {},
   "source": [
    "We can now look at the spectrum and the topological invariant of each subblock individually,"
   ]
  },
  {
   "cell_type": "code",
   "execution_count": null,
   "metadata": {
    "collapsed": false
   },
   "outputs": [],
   "source": [
    "np.random.seed(13) \n",
    "H0=make_cons_ham(modes)\n",
    "H1=make_cons_ham(modes)\n",
    "\n",
    "\n",
    "spectrum1 = []\n",
    "spectrum2 = []\n",
    "alphas = np.linspace(0, 1, 1000)\n",
    "for a in alphas:\n",
    "    H = (1 - a) * H0[:modes,:modes] + a * H1[:modes,:modes] \n",
    "    energies = np.linalg.eigvalsh(H)\n",
    "    spectrum1.append(energies)\n",
    "    H = (1 - a) * H0[modes:,modes:] + a * H1[modes:,modes:] \n",
    "    energies = np.linalg.eigvalsh(H)\n",
    "    spectrum2.append(energies)\n",
    "Q1 = [len(s[s<0]) for s in spectrum1]\n",
    "Q2 = [len(s[s<0]) for s in spectrum2]\n",
    "\n",
    "fig = plt.figure(figsize=(9.0, 4.0)) \n",
    "gs = gridspec.GridSpec(2, 2, height_ratios=[3, 1])\n",
    "ax0 = plt.subplot(gs[0])\n",
    "ax0.plot(alphas, spectrum1, c='k', linewidth = 1.2)\n",
    "ax0.axhline(0., ls='--', linewidth=2., c='b')\n",
    "ax0.set_xticks([])\n",
    "ax0.set_yticks([ -3, 0, 3])\n",
    "\n",
    "\n",
    "ax1 = plt.subplot(gs[2])\n",
    "ax1.plot(alphas, Q1, color='k', linewidth=1.5)\n",
    "ax1.fill_between(alphas, Q1, 0, color='r', alpha=0.5)\n",
    "ax1.grid(True)\n",
    "ax1.set_ylim(-0.1, 4.1)\n",
    "ax1.set_yticks([0,2,4])\n",
    "ax0.set_ylabel('$E$')\n",
    "ax1.set_ylabel('$ Q $')\n",
    "ax1.set_xlabel(r'$ \\alpha $')\n",
    "ax0.set_ylim([-3.1, 3.1])\n",
    "ax1.set_xticks([0, 0.5, 1.0])\n",
    "\n",
    "\n",
    "ax2 = plt.subplot(gs[1])\n",
    "ax2.plot(alphas, spectrum2, c='k', linewidth = 1.2)\n",
    "ax2.axhline(0., ls='--', linewidth=2., c='b')\n",
    "ax2.set_xticks([])\n",
    "ax2.set_yticks([ -3, 0, 3])\n",
    "ax2.set_ylim([-3.1, 3.1])\n",
    "ax3 = plt.subplot(gs[3])\n",
    "ax3.plot(alphas, Q2, color='k', linewidth=1.5)\n",
    "ax3.fill_between(alphas, Q2, 0, color='r', alpha=0.5)\n",
    "ax3.grid(True)\n",
    "ax3.set_ylim(-0.1, 4.1)\n",
    "ax3.set_yticks([0,2,4])\n",
    "plt.tight_layout()\n",
    "ax3.set_xlabel(r'$\\alpha$')\n",
    "ax3.set_xticks([0, 0.5, 1.0]);"
   ]
  },
  {
   "cell_type": "markdown",
   "metadata": {},
   "source": [
    "and combine them to get the spectrum and the topological invariant of the whole system:"
   ]
  },
  {
   "cell_type": "code",
   "execution_count": null,
   "metadata": {
    "collapsed": false
   },
   "outputs": [],
   "source": [
    "spectrum = []\n",
    "alphas = np.linspace(0, 1, 1000)\n",
    "for a in alphas:\n",
    "    H = (1 -a ) * H0 + a * H1 \n",
    "    energies = np.linalg.eigvalsh(H)\n",
    "    spectrum.append(energies)\n",
    "Q = [len(s[s<0]) for s in spectrum]\n",
    "\n",
    "plot_spec_top(alphas, spectrum, Q)"
   ]
  },
  {
   "cell_type": "markdown",
   "metadata": {},
   "source": [
    "As you can see, unitary symmetries play a rather boring role. As usual, they allow to reduce the dimension of the problem at hand, but nothing more. There are however other symmetries which can have a rich influence on topology. An important example is time-reversal symmetry, as we will see next."
   ]
  },
  {
   "cell_type": "markdown",
   "metadata": {},
   "source": [
    "# Time-reversal symmetry"
   ]
  },
  {
   "cell_type": "markdown",
   "metadata": {},
   "source": [
    "In our previous examples, you might have wondered, whether there was anything special with choosing real matrices? Indeed there was something special. A real Hamiltonian is a manifestation of time-reversal symmetry. Time-reversal symmetry is represented by an anti-unitary operator, and as such it can always be written as the product $\\mathcal{T}=U\\mathcal{K}$ of a unitary matrix times complex conjugation. In the case above, we had simply $\\mathcal{T}\\equiv\\mathcal{K}$. Our real Hamiltonians clearly obeyed time-reversal symmetry since $H=H^*$.\n",
    "\n",
    "Let's now break time-reversal symmetry, create random Hamiltonians with complex entries and see what happens."
   ]
  },
  {
   "cell_type": "code",
   "execution_count": null,
   "metadata": {
    "collapsed": false
   },
   "outputs": [],
   "source": [
    "def make_random_ham(N):\n",
    "    H = randn(N, N) + 1j * randn(N, N)\n",
    "    H += H.T.conj()\n",
    "    return H / 2\n",
    "\n",
    "np.random.seed(91)   \n",
    "H0 = make_random_ham(N=4)\n",
    "\n",
    "pprint_matrix(H0)"
   ]
  },
  {
   "cell_type": "code",
   "execution_count": null,
   "metadata": {
    "collapsed": false
   },
   "outputs": [],
   "source": [
    "np.random.seed(92)   \n",
    "H0 = make_random_ham(N=10)\n",
    "H1 = make_random_ham(N=10) \n",
    "\n",
    "spectrum = []\n",
    "alphas = np.linspace(0, 1, 1000)\n",
    "for a in alphas:\n",
    "    H = (1 -a ) * H0 + a * H1 \n",
    "    energies = np.linalg.eigvalsh(H)\n",
    "    spectrum.append(energies)\n",
    "Q = [len(s[s<0]) for s in spectrum]\n",
    "\n",
    "plot_spec_top(alphas, spectrum, Q)"
   ]
  },
  {
   "cell_type": "markdown",
   "metadata": {},
   "source": [
    "As you can see, there aren't really many differences with the previous case. The different energy levels move, and the topological invariant changes when one of them crosses zero.\n",
    "\n",
    "There is, however, a very important case where time-reversal symmetry makes a real difference. For systems with spin $1/2$, time-reversal symmetry has the operator\n",
    "\n",
    "$$\n",
    "\\mathcal{T}=i\\sigma_y \\mathcal{K},\n",
    "$$\n",
    "\n",
    "with $\\sigma_y$ the second Pauli matrix acting on the spin degree of freedom. In that case $\\mathcal{T}^2=-1$. A Hamiltonian with this type of time-reversal symmetry obeys the equation\n",
    "\n",
    "$$\n",
    "H = \\sigma_y\\, H^* \\sigma_y.\n",
    "$$\n",
    "\n",
    "The following matrix is an example of such Hamiltonian:"
   ]
  },
  {
   "cell_type": "code",
   "execution_count": null,
   "metadata": {
    "collapsed": false
   },
   "outputs": [],
   "source": [
    "def make_random_symplectic_ham(N):\n",
    "    if N % 2:\n",
    "        raise ValueError('Matrix dimension should be a multiple of 2')\n",
    "    sy = np.kron(np.eye(N // 2), np.array([[0, -1j], [1j, 0]]))\n",
    "    h = randn(N, N) + 1j * randn(N, N)\n",
    "    h += h.T.conj()\n",
    "    Th = np.dot(sy, np.dot(h.conj(), sy))\n",
    "    return (h + Th) / 4\n",
    "\n",
    "np.random.seed(49)   \n",
    "H0 = make_random_symplectic_ham(N=4)\n",
    "\n",
    "pprint_matrix(H0)"
   ]
  },
  {
   "cell_type": "markdown",
   "metadata": {},
   "source": [
    "Hamiltonians of this type have the following property: every energy eigenvalue $E_n$ is doubly degenerate (Kramers' degeneracy). We can see the consequences of Kramers' degeneracy on our game of deforming one random Hamiltonian into another."
   ]
  },
  {
   "cell_type": "code",
   "execution_count": null,
   "metadata": {
    "collapsed": false
   },
   "outputs": [],
   "source": [
    "np.random.seed(2285)   \n",
    "H0 = make_random_symplectic_ham(N=10)\n",
    "H1 = make_random_symplectic_ham(N=10) \n",
    "\n",
    "spectrum = []\n",
    "alphas = np.linspace(0, 1, 1000)\n",
    "for a in alphas:\n",
    "    H = (1 - a) * H0 + a * H1 \n",
    "    energies = np.linalg.eigvalsh(H)\n",
    "    spectrum.append(energies)\n",
    "Q = [len(s[s<0]) for s in spectrum]\n",
    "\n",
    "plot_spec_top(alphas, spectrum, Q)"
   ]
  },
  {
   "cell_type": "markdown",
   "metadata": {},
   "source": [
    "While the spectrum looks quite similar to the previous ones, whenever a line crosses zero energy, our topological invariant makes a jump of two, and not one! In this case, time-reversal symmetry constraints the topological invariant to only take even values. This is an example of how topological properties can be influenced by discrete symmetries."
   ]
  },
  {
   "cell_type": "markdown",
   "metadata": {},
   "source": [
    "# Sublattice symmetry"
   ]
  },
  {
   "cell_type": "markdown",
   "metadata": {},
   "source": [
    "We just saw that time-reversal symmetry can forbid the topological invariant to take a certain set of values. We now study another case where a symmetry changes the topological properties dramatically. \n",
    "\n",
    "Let's now take a system where we can split all the degrees of freedom into two groups (say group $A$ and group $B$) such that the Hamiltonian only has nonzero matrix elements between two groups, and not inside each group. This situation arises naturally when the lattice has two sublattices, as in the hexagonal carbon lattice of graphene. So let's imagine our quantum dot is now a graphene dot:\n",
    "\n",
    "![](figures/graphene_dot.png)\n",
    "\n",
    "As a consequence of sublattice symmetry, the Hamiltonian of the graphene dot looks like this:\n",
    "\n",
    "$$\n",
    "H =\n",
    "\\begin{pmatrix}\n",
    "0 & H_{AB} \\\\\n",
    "H_{AB}^\\dagger & 0\n",
    "\\end{pmatrix}.\n",
    "$$\n",
    "\n",
    "We can once again generate a random Hamiltonian with sublattice symmetry, here:"
   ]
  },
  {
   "cell_type": "code",
   "execution_count": null,
   "metadata": {
    "collapsed": false
   },
   "outputs": [],
   "source": [
    "def make_chiral_ham(N):\n",
    "    sigma_x=np.array([[0,1],[1,0]])\n",
    "    sigma_y=np.array([[0,-1j],[1j,0]])\n",
    "    temp1=randn(N, N)+1j*randn(N, N)\n",
    "    temp2=randn(N, N)+1j*randn(N, N)\n",
    "    \n",
    "    H = np.kron(sigma_x, temp1) + np.kron(sigma_y, temp2)\n",
    "    H += H.T.conj()\n",
    "    return H/2   \n",
    "\n",
    "np.random.seed(98)\n",
    "\n",
    "pprint_matrix(make_chiral_ham(2))"
   ]
  },
  {
   "cell_type": "markdown",
   "metadata": {},
   "source": [
    "If we introduce a diagonal matrix $\\sigma_z$ that equals $+1$ for sites on sublattice $A$, and $-1$ for sites on sublattice $B$, we can write the sublattice symmetry of the Hamiltonian as\n",
    "\n",
    "$$\n",
    "\\sigma_z H \\sigma_z = -H.\n",
    "$$\n",
    "\n",
    "This immediately means that if $(\\psi_A, \\psi_B)^T$ is an eigenvector of the Hamiltonian with energy $\\varepsilon$, then\n",
    "$(\\psi_A, -\\psi_B)^T$ is an eigenvector with energy $-\\varepsilon$. A symmetric spectrum is the consequence of sublattice symmetry.\n",
    "\n",
    "What does this mean for the topological classification?\n",
    "Clearly, the number of states with negative energy is the same as the number of states with positive energy, and that means we don't ever expect a single level to cross zero energy.\n",
    "\n",
    "Let's once again see if this is correct by transforming a random Hamiltonian with sublattice symmetry into another one."
   ]
  },
  {
   "cell_type": "code",
   "execution_count": null,
   "metadata": {
    "collapsed": false
   },
   "outputs": [],
   "source": [
    "modes=10\n",
    "np.random.seed(99) \n",
    "\n",
    "H0=make_chiral_ham(modes)\n",
    "H1=make_chiral_ham(modes)\n",
    "\n",
    "spectrum = []\n",
    "alphas = np.linspace(0, 1, 1000)\n",
    "for a in alphas:\n",
    "    H = (1 -a ) * H0 + a * H1\n",
    "    energies = np.linalg.eigvalsh(H)\n",
    "    spectrum.append(energies)\n",
    "\n",
    "plot_spectrum(alphas, spectrum, [-3, 3])"
   ]
  },
  {
   "cell_type": "markdown",
   "metadata": {},
   "source": [
    "Indeed, we can deform all the Hamiltonians with sublattice symmetry into one another without closing the gap.\n",
    "This means that an extra symmetry may render topological classification trivial. "
   ]
  },
  {
   "cell_type": "code",
   "execution_count": null,
   "metadata": {
    "collapsed": false
   },
   "outputs": [],
   "source": [
    "question = (\"OK, let's see what we have so far. Which of these symmetries certainly \"\n",
    "            \"do not change the topological classification:\")\n",
    "\n",
    "answers = [\"Spinless time-reversal symmetry\", \"Sublattice symmetry\", \"Conservation law\", \"Spinful time-reversal symmetry\"]\n",
    "\n",
    "explanation = (\"We cannot be sure about the conservation law, since the blocks may have different remaining symmetries. \"\n",
    "               \"And we just saw that sublattice symmetry makes every system trivial, while spinful time-reversal \"\n",
    "               \"makes the numbers of levels even.\")\n",
    "\n",
    "MoocCheckboxesAssessment(question, answers, correct_answers=[0], explanation=explanation)"
   ]
  },
  {
   "cell_type": "markdown",
   "metadata": {},
   "source": [
    "# Particle-hole symmetry"
   ]
  },
  {
   "cell_type": "markdown",
   "metadata": {},
   "source": [
    "There is another symmetry that has a strong influence on topology: particle-hole symmetry. It shows up in superconducting systems. As an example, imagine bringing our quantum dot in contact with a superconductor, like this:\n",
    "\n",
    "![](figures/SCdot.png)\n",
    "\n",
    "A superconductor will create and annihilate pairs of electrons by breaking apart [Cooper pairs](https://en.wikipedia.org/wiki/Cooper_pair) and forming them.\n",
    "This results in a Hamiltonian\n",
    "\n",
    "$$\n",
    "\\mathcal{H} = \\sum_{nm} H_{nm} c^\\dagger_nc_m + \\tfrac{1}{2} (\\Delta_{nm} c^\\dagger_n c^\\dagger_m + \\Delta^*_{nm} c_m c_n),\n",
    "$$\n",
    "\n",
    "where $c^\\dagger_n, c_n$ are the creation and annihilation operators of the electrons. We recall that these operators anticommute, obeying the relations $c_nc_m+c_mc_n=0$ and $c^\\dagger_n c_m + c_m c^\\dagger_n = \\delta_{mn}$, where $\\delta_{mn}=0$ if $m\\neq n$ and $1$ if $m=n$.\n",
    "\n",
    "The $H$-term is the dynamics of the electrons in the dot, while $\\Delta$ describes the pair creation and annihilation. The matrix $\\Delta$ is antisymmetric because the fermion operators anticommute. Now $\\mathcal{H}$ does not conserve the number of electrons, but still conserves the parity of the number of electrons. We can now group all the creation and annihilation operators in a vector, $C = (c_1, \\dots, c_n, c^\\dagger_1, \\dots, c^\\dagger_n)^T$. Then we write $\\mathcal{H}$ in the form 'row multiplies matrix multiplies column':\n",
    "\n",
    "$$\n",
    "\\mathcal{H} = \\frac{1}{2} C^\\dagger H_\\textrm{BdG}\\,C\\,.\n",
    "$$\n",
    "\n",
    "The matrix $H_\\textrm{BdG}$ is known as the Bogoliubov-de Gennes Hamiltonian, and it has the following structure:\n",
    "\n",
    "$$\n",
    "H_\\textrm{BdG} = \\begin{pmatrix} H & \\Delta \\\\ -\\Delta^* & -H^* \\end{pmatrix}.\n",
    "$$\n",
    "\n",
    "The Bogoliubov-de Gennes Hamiltonian acts on wave functions whose first half is composed out of annihiliation operators of electrons, and the second half out of creations operators of the same electrons.\n",
    "We can think of them as annihilation operators of an extra set of holes, so that we double the amount of degrees of freedom in the system.\n",
    "\n",
    "Since holes are related to the electrons, $H_{BdG}$ automatically has an extra symmetry.\n",
    "This symmetry exchanges electrons with holes, and has an antiunitary operator $\\mathcal{P}=\\tau_x K$, where the Pauli matrix $\\tau_x$ acts on the particle and hole blocks. We have that:\n",
    "\n",
    "$$\n",
    "\\mathcal{P} H_\\textrm{BdG} \\mathcal{P}^{-1} = -H_\\textrm{BdG}.\n",
    "$$\n",
    "\n",
    "Particle-hole symmetry is represented by an anti-unitary operator which anti-commutes with the Hamiltonian (compare this situation with that of time-reversal and sublattice symmetries). Because of the minus sign in the particle-hole symmetry, the spectrum of $H_\\textrm{BdG}$ must be symmetric around zero energy (that is, the Fermi level). Indeed, for every eigenvector $\\psi = (u, v)^T$ of $H_\\textrm{BdG}$ with energy $E$, there will be a particle-hole symmetric eigenvector $\\mathcal{P}\\psi=(v^*, u^*)^T$ with energy $-E$."
   ]
  },
  {
   "cell_type": "markdown",
   "metadata": {},
   "source": [
    "## Fermi level crossings in a random Bogoliubov-de Gennes Hamiltonian\n",
    "\n",
    "Let's generate a random Bogoliubov-de Gennes Hamiltonian $H_\\textrm{BdG}$:"
   ]
  },
  {
   "cell_type": "code",
   "execution_count": null,
   "metadata": {
    "collapsed": false
   },
   "outputs": [],
   "source": [
    "def make_BdG_ham(N):\n",
    "    #This is antisymmetric basis\n",
    "    H = 1j * randn(2*N, 2*N)\n",
    "    H += H.T.conj()\n",
    "    return H/2   \n",
    "\n",
    "modes=2\n",
    "np.random.seed(101) \n",
    "H0=make_BdG_ham(modes)\n",
    "H1=make_BdG_ham(modes)\n",
    "\n",
    "#Print in 'normal' basis\n",
    "H0_normal=np.dot(np.kron(np.array([[1,-1j],[1,1j]]),np.identity(modes)),H0)\n",
    "H0_normal=np.dot(H0_normal,np.kron(np.array([[1,1],[1j,-1j]]),np.identity(modes)))\n",
    "pprint_matrix(H0_normal)"
   ]
  },
  {
   "cell_type": "markdown",
   "metadata": {},
   "source": [
    "We can now see what happens when we deform it into a second one. You can indeed see clearly that the spectrum is mirrored around the line $E=0$, just like it was in the presence of sublattice symmetry."
   ]
  },
  {
   "cell_type": "code",
   "execution_count": null,
   "metadata": {
    "collapsed": false
   },
   "outputs": [],
   "source": [
    "def make_BdG_ham(N):\n",
    "    #This is antisymmetric basis\n",
    "    H = 1j * randn(2*N, 2*N)\n",
    "    H += H.T.conj()\n",
    "    return H/2   \n",
    "\n",
    "modes = 10\n",
    "np.random.seed(5) \n",
    "H0 = make_BdG_ham(modes)\n",
    "H1 = make_BdG_ham(modes)\n",
    "\n",
    "ens = []\n",
    "pfaffian = []\n",
    "alphas = np.linspace(0, 1, 100)\n",
    "for a in alphas:\n",
    "    H = (1 - a) * H0 + a * H1\n",
    "    pfaffian.append(np.real(np.sign(pf.pfaffian(1j*H))))\n",
    "    energies = np.linalg.eigvalsh(H)\n",
    "    ens.append(energies)\n",
    "\n",
    "plot_spectrum(alphas, ens, [-3.0, 3.0])    "
   ]
  },
  {
   "cell_type": "markdown",
   "metadata": {},
   "source": [
    "You can however notice that, unlike in the case of sublattice symmetry, energy levels do not repel around zero energy, so that crossings at zero energy appear."
   ]
  },
  {
   "cell_type": "markdown",
   "metadata": {},
   "source": [
    "## Fermion parity switches\n",
    "\n",
    "Let's think a bit more about these crossings. At first, they might look a bit mysterious. In general a crossing between energy levels happens in the presence of a conserved quantity, and our random Bogoliubov-de Gennes Hamiltonian does not seem to have an obvious one. Let's however recall what we said earlier: While the mean-field Hamiltonian of a superconductor does not conserve the number of particles, it conserves the parity of this number. In other words, forming and breaking Cooper pairs does not affect whether the superconducting quantum dots contains an even or odd number of electrons. In short, fermion parity is a conserved quantity (provided that isolated electrons do not enter or leave the dot, a possibility which we will disregard).\n",
    "\n",
    "The above observation reveals that the existence of crossings is due to the fermion parity conservation. Fermion parity, however, is a many-body quantity, which cannot be directly described in terms of the single particle picture of the Bogoliubov-de Gennes Hamiltonian. \n",
    "To understand the existence of the crossings, recall that to obtain a Bogoliubov-de Gennes description of the superconductor we had to double the number of degrees of freedom by introducing holes.\n",
    "Hence, unlike in the case of sublattice symmetry, a pair of $\\pm E$ energy levels does not corresponds to two distinct quantum states, but to a *single* quantum state.\n",
    "This quantum state is a coherent superposition of electrons and holes - a *Bogoliubov quasiparticle*: it has an excitation energy $E$, and it is created by an operator $a^\\dagger = u c^\\dagger + v c$.\n",
    "Populating the partner state at energy $-E$ is the same as emptying the positive energy state.\n",
    "\n",
    "When a pair of levels crosses zero energy, the excitation energy $E$ of the Bogoliubov quasiparticle changes sign and it becomes favorable to add a Bogoliubov quasiparticle to, or remove it from the superconducting quantum dot. In other words, at each crossing the fermion parity in the ground state of the dot changes from even to odd, or vice versa. Hence these crossings are *fermion parity switches*.\n",
    "\n",
    "Since the ground state fermion parity is preserved by the superconducting Hamiltonian if there are no Bogoliubov quasiparticles crossing zero energy, the ground state fermion parity is the topological invariant of this system. It is clear however that this invariant is of a different nature than the one of the non-superconducting systems, which is given by the number of negative eigenvalues of the Hamiltonian. The latter cannot change for a Bogoliubov-de Gennes Hamiltonian, which has a symmetric energy spectrum, and hence it is not suitable to describe changes in fermion parity. Is there a way to compute this new invariant directly from the Bogoliubov-de Gennes Hamiltonian?"
   ]
  },
  {
   "cell_type": "markdown",
   "metadata": {},
   "source": [
    "## The Pfaffian invariant\n",
    "\n",
    "In order to introduce the new invariant, we have to start with a basis transformation, that makes the Hamiltonian an antisymmetric matrix. We use the following unitary transformation in particle-hole space,\n",
    "\n",
    "$$\n",
    "\\tilde{H}_{BdG}=\\frac{1}{2}\\left( \\begin{array}{cc}\n",
    "1 & 1 \\\\\n",
    "i & -i \\end{array} \\right) \n",
    "H_{BdG} \n",
    "\\left( \\begin{array}{cc}\n",
    "1 & -i \\\\\n",
    "1 & i \\end{array} \\right)\\,.\n",
    "$$\n",
    "\n",
    "We then have\n",
    "\n",
    "$$\n",
    "\\tilde{H}_\\textrm{BdG} = \\frac{1}{2}\\begin{pmatrix} H-H^*+\\Delta-\\Delta^* & -iH-iH^*+i\\Delta+i\\Delta^* \\\\ +iH+iH^*+i\\Delta+i\\Delta^* & H-H^*-\\Delta+\\Delta^* \\end{pmatrix}.\n",
    "$$\n",
    "\n",
    "We already know that the pairing matrix $\\Delta$ is antisymmetric. Since $H$ is Hermitian $H-H^*$ is also antisymmetric and $H+H^*$ is symmetric. Then we can see that $\\tilde{H}_{BdG}$ is antisymmetric.\n",
    "\n",
    "There is a special number that we can compute for antisymmetric matrices, the [Pfaffian](http://en.wikipedia.org/wiki/Pfaffian). Its rigorous definition is not important for our course. The basic idea is simple: The eigenvalues of an antisymmetric matrices always come in pairs. In the case of our $\\tilde{H}_{BdG}$, these are the energy eigenvalues $\\pm E_n$. By taking their product we obtain the determinant of the matrix, equal to $\\prod_n (-E_n^2)$. The key property of the Pfaffian is that it allows to take a square root of the determinant, equal to $\\pm i\\prod_n E_n$, in such a way that the sign of the product is uniquely defined. At a fermion parity switch a single $E_n$ changes sign, so the Pfaffian changes sign as well (while the determinant stays the same).\n",
    "\n",
    "This feature of the Pfaffian really makes it what we are looking for. Let's try out the sign of the Pfaffian as our topological invariant $Q_\\textrm{BdG}$:\n",
    "\n",
    "$$ Q_\\textrm{BdG} = \\textrm{sign}\\left[\\,\\textrm{Pf} (i H_\\textrm{BdG})\\,\\right]\\,.$$\n",
    "\n",
    "We have included a factor of $i$ just for convenience, so that the Pfaffian is a real number.\n",
    "\n",
    "Whenever we need to compute a Pfaffian we just use the [Pfapack](http://arxiv.org/abs/1102.3440) package that calculates Pfaffians for numerical matrices. Let's use that package and check that the Pfaffian indeed allows us to calculate the fermion parity of the ground state of $H_{BdG}$."
   ]
  },
  {
   "cell_type": "code",
   "execution_count": null,
   "metadata": {
    "collapsed": false
   },
   "outputs": [],
   "source": [
    "def plot_spec_pf(alphas, ens, pfaffian):\n",
    "    fig = plt.figure(figsize=(4.5, 4.0)) \n",
    "    gs = gridspec.GridSpec(2, 1, height_ratios=[3, 1])\n",
    "    ax0 = plt.subplot(gs[0])\n",
    "    ax0.plot(alphas, ens, c='k', linewidth = 1.2)\n",
    "    ax0.axhline(0., ls='--', linewidth=2., c='b')\n",
    "    ax0.set_xticks([])\n",
    "    ax0.set_ylim(-1.5, 1.5)\n",
    "    ax0.set_yticks([ -1, 0, 1])\n",
    "    ax1 = plt.subplot(gs[1])\n",
    "    ax1.plot(alphas, pfaffian, color='k', linewidth=1.5)\n",
    "    ax1.fill_between(alphas, pfaffian, -1, color='r', alpha=0.5)\n",
    "    ax1.grid(True)\n",
    "    ax1.set_ylim(-1.2, 1.2)\n",
    "    ax1.set_yticks([ -1, 1])\n",
    "    plt.tight_layout()\n",
    "    ax0.set_ylabel('$E$')\n",
    "    ax1.set_ylabel('$Q_{BdG}$')\n",
    "    ax1.set_xlabel(r'$ \\alpha $')\n",
    "    ax1.set_xticks([0, 0.5, 1.0]);\n",
    "    \n",
    "plot_spec_pf(alphas,ens, pfaffian)"
   ]
  },
  {
   "cell_type": "markdown",
   "metadata": {},
   "source": [
    "You can see how the Pfaffian invariant $Q_\\textrm{BdG}$ changes its value from $+1$ to $-1$ at every zero-energy crossing. \n",
    "This means that it is the correct expression for the ground state fermion parity and for the topological invariant."
   ]
  },
  {
   "cell_type": "code",
   "execution_count": null,
   "metadata": {
    "collapsed": false
   },
   "outputs": [],
   "source": [
    "question = (\"What happens to the topological invariant if we take the superconducting\" +\n",
    "                              \" Hamiltonian and set $\\Delta=0$?\")\n",
    "answers = [\"The Pfaffian invariant still captures all of the topological properties.\",\n",
    "           \"The Hamiltonian loses particle-hole symmetry and becomes topologically trivial.\",\n",
    "           \"The Hamiltonian now has a new conservation law so there are two blocks, each with its own invariant.\",\n",
    "           \"It isn't allowed to set $\\Delta=0$\"]\n",
    "explanation = (\"If $\\Delta=0$ the numbers of filled electron and hole states is conserved, and so the invariant once again\"\n",
    "               \" becomes just the number of filled states.\")\n",
    "MoocMultipleChoiceAssessment(question, answers, correct_answer=2, explanation=explanation)"
   ]
  },
  {
   "cell_type": "markdown",
   "metadata": {},
   "source": [
    "# Conclusion"
   ]
  },
  {
   "cell_type": "code",
   "execution_count": null,
   "metadata": {
    "collapsed": false
   },
   "outputs": [],
   "source": [
    "MoocVideo(\"C7HoXjVbpoM\", src_location='1.1-summary')"
   ]
  },
  {
   "cell_type": "markdown",
   "metadata": {},
   "source": [
    "**Questions about what you learned? Ask them below**"
   ]
  },
  {
   "cell_type": "code",
   "execution_count": null,
   "metadata": {
    "collapsed": false
   },
   "outputs": [],
   "source": [
    "MoocDiscussion('Questions', 'Hamiltonians, Topology and Symmetry')"
   ]
  }
 ],
 "metadata": {},
 "nbformat": 4,
 "nbformat_minor": 0
}
